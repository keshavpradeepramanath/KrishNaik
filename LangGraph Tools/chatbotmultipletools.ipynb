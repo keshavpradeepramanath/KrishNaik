{
 "cells": [
  {
   "cell_type": "code",
   "execution_count": 2,
   "metadata": {},
   "outputs": [],
   "source": [
    "from langchain_community.tools import ArxivQueryRun, WikipediaQueryRun\n",
    "from langchain_community.utilities import WikipediaAPIWrapper,ArxivAPIWrapper"
   ]
  },
  {
   "cell_type": "code",
   "execution_count": 3,
   "metadata": {},
   "outputs": [
    {
     "name": "stdout",
     "output_type": "stream",
     "text": [
      "arxiv\n"
     ]
    }
   ],
   "source": [
    "api_wrapper_arxiv = ArxivAPIWrapper(top_k_results=2,doc_content_chars_max=200)\n",
    "arxiv = ArxivQueryRun(api_wrapper=api_wrapper_arxiv,description =\" Arxiv Query papers\")\n",
    "print(arxiv.name)"
   ]
  },
  {
   "cell_type": "code",
   "execution_count": 4,
   "metadata": {},
   "outputs": [
    {
     "data": {
      "text/plain": [
       "\"Published: 2024-07-22\\nTitle: Attention Is All You Need But You Don't Need All Of It For Inference of Large Language Models\\nAuthors: Georgy Tyukin, Gbetondji J-S Dovonon, Jean Kaddour, Pasquale Minervi\""
      ]
     },
     "execution_count": 4,
     "metadata": {},
     "output_type": "execute_result"
    }
   ],
   "source": [
    "arxiv.invoke('Attention is all you need')"
   ]
  },
  {
   "cell_type": "code",
   "execution_count": 5,
   "metadata": {},
   "outputs": [
    {
     "name": "stdout",
     "output_type": "stream",
     "text": [
      "wikipedia\n"
     ]
    }
   ],
   "source": [
    "api_wrapper_wiki=WikipediaAPIWrapper(top_k_results=2,doc_content_chars_max=200)\n",
    "wikipedia = WikipediaQueryRun(api_wrapper=api_wrapper_wiki,description=\"Wikipedia query \")\n",
    "print(wikipedia.name)"
   ]
  },
  {
   "cell_type": "code",
   "execution_count": 13,
   "metadata": {},
   "outputs": [
    {
     "data": {
      "text/plain": [
       "'Page: Dr. Rajkumar\\nSummary: Singanalluru Puttaswamaiah Muthuraj (24 April 1929 – 12 April 2006), better known by his stage name Dr. Rajkumar, was an Indian actor and singer who worked in Kannada cinem'"
      ]
     },
     "execution_count": 13,
     "metadata": {},
     "output_type": "execute_result"
    }
   ],
   "source": [
    "wikipedia.invoke('Dr Rajkumar')"
   ]
  },
  {
   "cell_type": "code",
   "execution_count": 6,
   "metadata": {},
   "outputs": [],
   "source": [
    "from dotenv import load_dotenv\n",
    "load_dotenv()\n",
    "\n",
    "import os\n",
    "os.environ['TAVILY_API_KEY']= os.getenv('TAVILY_API_KEY')\n",
    "os.environ['OPENAI_API_KEY']=os.getenv('OPENAI_API_KEY')"
   ]
  },
  {
   "cell_type": "code",
   "execution_count": 8,
   "metadata": {},
   "outputs": [
    {
     "data": {
      "text/plain": [
       "[{'url': 'https://crictoday.com/cricket/series/shashank-singh/',\n",
       "  'content': 'Shashank Singh, known as Badshah, is a cricketer from Bhilai, Chhattisgarh. He is a right-handed batsman and a right-arm medium bowler. He plays for India and the IPL team Punjab Kings. Singh’s domestic team is Mumbai and he has played for Mumbai Cricket Association XI, Chhattisgarh, and the IPL teams Sunrisers Hyderabad, Punjab Kings, Delhi Capitals, and Rajasthan Royals. He is an allrounder for the team.\\n\\n## SHASHANK SINGH BIOGRAPHY [...] |  |  |\\n| --- | --- |\\n| **FULL NAME** | Shashank Singh |\\n| **NICKNAME** | Badshah |\\n| **PLACE OF BIRTH** | Bhilai, Chhattisgarh |\\n| **BORN** | 21 November 1991 |\\n| **HEIGHT** | 5 ft 11 in |\\n| **EYE COLOUR** | Black |\\n| **JERSEY NO** | 18 |\\n| **TEAM** | [India](https://crictoday.com/cricket/series/india-national-cricket-team/) |\\n| **IPL** | [Punjab Kings](https://crictoday.com/cricket/series/punjab-kings/), 2022 (Sunrisers Hyderabad) |\\n| **BATTING STYLE** | Right-Handed | [...] logo](https://crictoday.com/wp-content/uploads/2025/05/4f665165-458d-457a-bf7f-37ee86b50adb_removalai_preview-300x280.webp)](https://twitter.com/crictoday)'},\n",
       " {'url': 'https://www.hindustantimes.com/cricket/players/shashank-singh-63520',\n",
       "  'content': '# Shashank Singh\\n\\n![India](https://www.hindustantimes.com/static-content/1y/cricket-logos/default-player.png?v1)\\n\\nThe 25-year-old Shashank Singh is an aggressive all-rounder originally from Madhya Pradesh. Singh came to the limelight with his unsung contribution in the recently concluded West Zone Inter-State T20 Tournament where he represented Mumbai. In his brief career so far, he has proved a utility player with his handy off-breaks while also hitting the long ball when needed.'},\n",
       " {'url': 'https://www.punjabkingsipl.in/players/63520-shashank-singh-profile',\n",
       "  'content': 'The 25-year-old Shashank Singh is an aggressive all-rounder originally from Madhya Pradesh. Singh came to the limelight with his unsung contribution in the recently concluded West Zone Inter-State T20 Tournament where he represented Mumbai. In his brief career so far, he has proved a utility player with his handy off-breaks while also hitting the long ball when needed. [...] The 25-year-old Shashank Singh is an aggressive all-rounder originally from Madhya Pradesh. Singh came to the limelight with his unsung contribution in the recently concluded West Zone Inter-State T20 Tournament where he represented Mumbai. In his brief career so far, he has proved a utility player with his handy off-breaks while also hitting the long ball when needed.'},\n",
       " {'url': 'https://seafoodsustainability.org/team/shashank-singh/',\n",
       "  'content': \"Shashank Singh is the Manager for Blue Finance (Blended Financial Models) on the WWF-US team, leading WWF's engagement on design and implementation of\"},\n",
       " {'url': 'https://www.espncricinfo.com/cricketers/shashank-singh-377534',\n",
       "  'content': 'Shashank Singh, a right-hand batter and right-arm offspinner, shot into the limelight after hitting an unbeaten 29-ball 61 for Punjab Kings against Gujarat'}]"
      ]
     },
     "execution_count": 8,
     "metadata": {},
     "output_type": "execute_result"
    }
   ],
   "source": [
    "from langchain_community.tools.tavily_search import TavilySearchResults\n",
    "\n",
    "\n",
    "tavily = TavilySearchResults()\n",
    "tavily.invoke('Who is Shashank Singh')"
   ]
  },
  {
   "cell_type": "code",
   "execution_count": 16,
   "metadata": {},
   "outputs": [
    {
     "data": {
      "text/plain": [
       "[{'url': 'https://www.ncnewsonline.com/news/national/cmo-confidence-in-genai-is-higher-than-ever-with-over-80-expressing-optimism/article_c48c4f41-d9ce-5540-8cbd-d319be53c5c1.html',\n",
       "  'content': 'BOSTON, June 2, 2025 /PRNewswire/ -- Despite economic volatility, 71% of CMOs plan to invest more than $10 million annually in GenAI over the next three years, up from 57% last year. According to a new survey from [Boston Consulting Group (BCG)](https://c212.net/c/link/?t=0&l=en&o=4439293-1&h=3592626348&u=http%3A%2F%2Fwww.bcg.com%2F&a=Boston+Consulting+Group+(BCG)), optimism among CMOs about GenAI has climbed each year—from 74% in 2023 to 83% in 2025—while concerns have declined rapidly. [...] ![site-logo](https://bloximages.chicago2.vip.townnews.com/ncnewsonline.com/content/tncms/assets/v3/media/c/1c/c1cb295e-a570-11ec-8f10-1335a180e343/623257b8c0735.image.png?resize=200%2C37)\\n![](data:image/png;base64,iVBORw0KGgoAAAANSUhEUgAAAAQAAAADCAQAAAAe/WZNAAAAEElEQVR42mM8U88ABowYDABAxQPltt5zqAAAAABJRU5ErkJggg==)\\n\\n#### New Castle, PA (16105)\\n\\n##### Today\\n\\nSunny. High 76F. Winds W at 5 to 10 mph..\\n\\n##### Tonight\\n\\nClear skies. Low 48F. Winds light and variable.\\n\\nUpdated: June 2, 2025 @ 6:28 am [...] ##### [Former county man sentenced in child sexual abuse case](/news/former-county-man-sentenced-in-child-sexual-abuse-case/article_255c7d5b-6108-4cb7-b224-1be8eca38bb2.html)\\n\\n##### [Benefit planned to help Ellwood 7-year-old with brain cancer](/news/local_news/benefit-planned-to-help-ellwood-7-year-old-with-brain-cancer/article_47608163-3458-4b72-a787-5ffc81d44ba4.html)'},\n",
       " {'url': 'https://techcrunch.com/tag/generative-ai/',\n",
       "  'content': '### [Early AI investor Elad Gil finds his next big bet: AI-powered rollups](https://techcrunch.com/2025/06/01/early-ai-investor-elad-gil-finds-his-next-big-bet-ai-powered-rollups/)\\n\\n[Early AI investor Elad Gil finds his next big bet: AI-powered rollups](https://techcrunch.com/2025/06/01/early-ai-investor-elad-gil-finds-his-next-big-bet-ai-powered-rollups/) [...] ### [Video game union announces first contract with Microsoft](https://techcrunch.com/2025/06/01/video-game-union-announces-first-contract-with-microsoft/)\\n\\n[Video game union announces first contract with Microsoft](https://techcrunch.com/2025/06/01/video-game-union-announces-first-contract-with-microsoft/)\\n\\n### [4 days to go: TechCrunch Sessions: AI is almost in session](https://techcrunch.com/2025/06/01/4-days-to-go-techcrunch-sessions-ai-is-almost-in-session/) [...] [Elon Musk tries to stick to spaceships](https://techcrunch.com/2025/06/01/elon-musk-tries-to-stick-to-spaceships/)\\n\\n### [Thousands of Netflix fans gather for Tudum](https://techcrunch.com/2025/06/01/thousands-of-netflix-fans-gather-for-tudum/)\\n\\n[Thousands of Netflix fans gather for Tudum](https://techcrunch.com/2025/06/01/thousands-of-netflix-fans-gather-for-tudum/)'},\n",
       " {'url': 'https://www.gartner.com/en/newsroom/press-releases/2025-06-02-gartner-predicts-by-2028-80-percent-of-genai-business-apps-will-be-developed-on-existing-data-management-platforms',\n",
       "  'content': 'Gartner Predicts by 2028, 80% of GenAI Business Apps Will Be Developed on Existing Data Management Platforms. MUMBAI, India, June 2, 2025'},\n",
       " {'url': 'https://legaltechnology.com/2025/06/02/genai-round-table-takeaways-be-dazzled-by-outcomes-not-shiny-things/',\n",
       "  'content': 'GenAI round table takeaways: Be dazzled by outcomes, not shiny things. / Latest News / By Caroline Hill - Editor-in-Chief / 2 June 2025.'},\n",
       " {'url': 'https://www.newsx.com/business/generative-ai-adoption-grows-among-cmos-with-focus-on-content-and-personalization/',\n",
       "  'content': \"![newsx](data:image/svg+xml,%3Csvg%20xmlns='http://www.w3.org/2000/svg'%20viewBox='0%200%20300%200'%3E%3C/svg%3E)![newsx](https://www.newsx.com/wp-content/uploads/2025/06/Adnan-Sami-mother-300x169.webp)\\n\\n![newsx](https://www.newsx.com/wp-content/uploads/2025/06/Adnan-Sami-mother-300x169.webp)\\n\\n### Adnan Sami’s Painful Truth: ‘Watched Mother’s Janaza on WhatsApp’ After Pakistan Visa Rejection [...] ![China has accused the US ](data:image/svg+xml,%3Csvg%20xmlns='http://www.w3.org/2000/svg'%20viewBox='0%200%20300%200'%3E%3C/svg%3E)![China has accused the US ](https://www.newsx.com/wp-content/uploads/2025/06/Kriti_Work-2025-06-02T172912.908-300x169.webp)\\n\\n![China has accused the US ](https://www.newsx.com/wp-content/uploads/2025/06/Kriti_Work-2025-06-02T172912.908-300x169.webp)\\n\\n### China Accuses US of ‘Provoking Frictions’ Amid Renewed Trade Tensions Post-Geneva Truce [...] ### Adnan Sami’s Painful Truth: ‘Watched Mother’s Janaza on WhatsApp’ After Pakistan Visa Rejection\\n\\n![“Gauri And I Became Friends, Then Love Happened”: Aamir Khan Shares How They Met](data:image/svg+xml,%3Csvg%20xmlns='http://www.w3.org/2000/svg'%20viewBox='0%200%200%200'%3E%3C/svg%3E)\\n![“Gauri And I Became Friends, Then Love Happened”: Aamir Khan Shares How They Met](https://www.newsx.com/wp-content/uploads/2025/06/Aamir-Khan.webp)\"}]"
      ]
     },
     "execution_count": 16,
     "metadata": {},
     "output_type": "execute_result"
    }
   ],
   "source": [
    "tavily.invoke('Give me 5 recent genAI news of June 2025')"
   ]
  },
  {
   "cell_type": "code",
   "execution_count": 9,
   "metadata": {},
   "outputs": [],
   "source": [
    "tools =[arxiv,wikipedia,tavily]"
   ]
  },
  {
   "cell_type": "code",
   "execution_count": 10,
   "metadata": {},
   "outputs": [
    {
     "data": {
      "text/plain": [
       "AIMessage(content='Dr. Rajkumar was a famous Indian actor and singer who worked predominantly in the Kannada film industry. He is considered one of the greatest actors in the history of Indian cinema and is often referred to as \"Annavru\" (elder brother) by his fans. Dr. Rajkumar starred in over 200 films in a career spanning more than five decades and was known for his versatility and powerful performances. He was also a playback singer and has sung many popular songs in Kannada films. Dr. Rajkumar received numerous awards and accolades throughout his career, including multiple National Film Awards and Karnataka State Film Awards. He passed away in 2006 at the age of 77.', additional_kwargs={'refusal': None}, response_metadata={'token_usage': {'completion_tokens': 141, 'prompt_tokens': 13, 'total_tokens': 154, 'completion_tokens_details': {'accepted_prediction_tokens': 0, 'audio_tokens': 0, 'reasoning_tokens': 0, 'rejected_prediction_tokens': 0}, 'prompt_tokens_details': {'audio_tokens': 0, 'cached_tokens': 0}}, 'model_name': 'gpt-3.5-turbo-0125', 'system_fingerprint': None, 'finish_reason': 'stop', 'logprobs': None}, id='run-d8228867-622a-4d13-802a-8d13fb7df8e4-0', usage_metadata={'input_tokens': 13, 'output_tokens': 141, 'total_tokens': 154, 'input_token_details': {'audio': 0, 'cache_read': 0}, 'output_token_details': {'audio': 0, 'reasoning': 0}})"
      ]
     },
     "execution_count": 10,
     "metadata": {},
     "output_type": "execute_result"
    }
   ],
   "source": [
    "from langchain_openai import ChatOpenAI\n",
    "llm = ChatOpenAI(temperature =0.7,model='gpt-3.5-turbo')\n",
    "llm.invoke('Who is Dr Rajkumar')\n"
   ]
  },
  {
   "cell_type": "code",
   "execution_count": 11,
   "metadata": {},
   "outputs": [],
   "source": [
    "llm_with_tools = llm.bind_tools(tools=tools)"
   ]
  },
  {
   "cell_type": "code",
   "execution_count": 12,
   "metadata": {},
   "outputs": [
    {
     "data": {
      "text/plain": [
       "AIMessage(content='', additional_kwargs={'tool_calls': [{'id': 'call_UH4yUQ5OAoUmouVCRhAu09r1', 'function': {'arguments': '{\"query\":\"GenAI latest news\"}', 'name': 'tavily_search_results_json'}, 'type': 'function'}], 'refusal': None}, response_metadata={'token_usage': {'completion_tokens': 21, 'prompt_tokens': 143, 'total_tokens': 164, 'completion_tokens_details': {'accepted_prediction_tokens': 0, 'audio_tokens': 0, 'reasoning_tokens': 0, 'rejected_prediction_tokens': 0}, 'prompt_tokens_details': {'audio_tokens': 0, 'cached_tokens': 0}}, 'model_name': 'gpt-3.5-turbo-0125', 'system_fingerprint': None, 'finish_reason': 'tool_calls', 'logprobs': None}, id='run-54a068d0-e977-43b5-b91a-9eafe4dd7806-0', tool_calls=[{'name': 'tavily_search_results_json', 'args': {'query': 'GenAI latest news'}, 'id': 'call_UH4yUQ5OAoUmouVCRhAu09r1', 'type': 'tool_call'}], usage_metadata={'input_tokens': 143, 'output_tokens': 21, 'total_tokens': 164, 'input_token_details': {'audio': 0, 'cache_read': 0}, 'output_token_details': {'audio': 0, 'reasoning': 0}})"
      ]
     },
     "execution_count": 12,
     "metadata": {},
     "output_type": "execute_result"
    }
   ],
   "source": [
    "llm_with_tools.invoke('Whats the latest news ob=n GenAI')"
   ]
  },
  {
   "cell_type": "code",
   "execution_count": 22,
   "metadata": {},
   "outputs": [
    {
     "data": {
      "text/plain": [
       "AIMessage(content='', additional_kwargs={'tool_calls': [{'id': 'call_4frSa8E7W38UeajGEZhIDtww', 'function': {'arguments': '{\"query\":\"SRK\"}', 'name': 'wikipedia'}, 'type': 'function'}], 'refusal': None}, response_metadata={'token_usage': {'completion_tokens': 14, 'prompt_tokens': 139, 'total_tokens': 153, 'completion_tokens_details': {'accepted_prediction_tokens': 0, 'audio_tokens': 0, 'reasoning_tokens': 0, 'rejected_prediction_tokens': 0}, 'prompt_tokens_details': {'audio_tokens': 0, 'cached_tokens': 0}}, 'model_name': 'gpt-3.5-turbo-0125', 'system_fingerprint': None, 'finish_reason': 'tool_calls', 'logprobs': None}, id='run-b3e113db-8bef-4ad1-bfaf-19bc57aa4fd3-0', tool_calls=[{'name': 'wikipedia', 'args': {'query': 'SRK'}, 'id': 'call_4frSa8E7W38UeajGEZhIDtww', 'type': 'tool_call'}], usage_metadata={'input_tokens': 139, 'output_tokens': 14, 'total_tokens': 153, 'input_token_details': {'audio': 0, 'cache_read': 0}, 'output_token_details': {'audio': 0, 'reasoning': 0}})"
      ]
     },
     "execution_count": 22,
     "metadata": {},
     "output_type": "execute_result"
    }
   ],
   "source": [
    "llm_with_tools.invoke('Whois SRK')"
   ]
  },
  {
   "cell_type": "code",
   "execution_count": 13,
   "metadata": {},
   "outputs": [],
   "source": [
    "from typing_extensions import TypedDict\n",
    "from langchain_core.messages import AnyMessage\n",
    "from typing import Annotated\n",
    "from langgraph.graph.message import add_messages"
   ]
  },
  {
   "cell_type": "code",
   "execution_count": 14,
   "metadata": {},
   "outputs": [],
   "source": [
    "class State(TypedDict):\n",
    "    messages : Annotated[list[AnyMessage],add_messages] ##Append messages, be it AI generated or Human and return data of type TypedDict\n",
    "    \n"
   ]
  },
  {
   "cell_type": "code",
   "execution_count": 15,
   "metadata": {},
   "outputs": [],
   "source": [
    "from IPython.display import Image,display\n",
    "from langgraph.graph import StateGraph,START,END\n",
    "from langgraph.prebuilt import ToolNode\n",
    "from langgraph.prebuilt import tools_condition\n"
   ]
  },
  {
   "cell_type": "code",
   "execution_count": 16,
   "metadata": {},
   "outputs": [
    {
     "data": {
      "text/plain": [
       "<langgraph.graph.state.StateGraph at 0x1198c8a30>"
      ]
     },
     "execution_count": 16,
     "metadata": {},
     "output_type": "execute_result"
    }
   ],
   "source": [
    "def tool_calling_llm(state:State):\n",
    "    return {'messages':[llm_with_tools.invoke(state['messages'])]}\n",
    "\n",
    "\n",
    "builder = StateGraph(State)\n",
    "builder.add_node('tool_calling_llm',tool_calling_llm)\n",
    "builder.add_node('tools',ToolNode(tools))"
   ]
  },
  {
   "cell_type": "code",
   "execution_count": 29,
   "metadata": {},
   "outputs": [
    {
     "data": {
      "image/png": "[encoded data removed]",
      "text/plain": [
       "<IPython.core.display.Image object>"
      ]
     },
     "metadata": {},
     "output_type": "display_data"
    }
   ],
   "source": [
    "# builder.add_edge(START,'tool_calling_llm')\n",
    "# builder.add_conditional_edges(\n",
    "#     'tool_calling_llm',\n",
    "#     tools_condition\n",
    "# )\n",
    "\n",
    "# builder.add_edge('tools',END)\n",
    "\n",
    "# graph = builder.compile()\n",
    "# display(Image(graph.get_graph().draw_mermaid_png()))"
   ]
  },
  {
   "cell_type": "code",
   "execution_count": 31,
   "metadata": {},
   "outputs": [
    {
     "name": "stdout",
     "output_type": "stream",
     "text": [
      "================================\u001b[1m Human Message \u001b[0m=================================\n",
      "\n",
      "1706.03762\n",
      "==================================\u001b[1m Ai Message \u001b[0m==================================\n",
      "Tool Calls:\n",
      "  arxiv (call_mg7eoB9XpTnfcVfs6fhKVQph)\n",
      " Call ID: call_mg7eoB9XpTnfcVfs6fhKVQph\n",
      "  Args:\n",
      "    query: 1706.03762\n",
      "=================================\u001b[1m Tool Message \u001b[0m=================================\n",
      "Name: arxiv\n",
      "\n",
      "Published: 2023-08-02\n",
      "Title: Attention Is All You Need\n",
      "Authors: Ashish Vaswani, Noam Shazeer, Niki Parmar, Jakob Uszkoreit, Llion Jones, Aidan N. Gomez, Lukasz Kaiser, Illia Polosukhin\n",
      "Summary: The do\n"
     ]
    }
   ],
   "source": [
    "messages = graph.invoke({'messages':'1706.03762'})\n",
    "for m in messages['messages']:\n",
    "    m.pretty_print()"
   ]
  },
  {
   "cell_type": "code",
   "execution_count": 32,
   "metadata": {},
   "outputs": [
    {
     "name": "stdout",
     "output_type": "stream",
     "text": [
      "================================\u001b[1m Human Message \u001b[0m=================================\n",
      "\n",
      "My name is Pradeep\n",
      "==================================\u001b[1m Ai Message \u001b[0m==================================\n",
      "\n",
      "Hello Pradeep! How can I assist you today?\n"
     ]
    }
   ],
   "source": [
    "messages = graph.invoke({'messages':'My name is Pradeep'})\n",
    "for m in messages['messages']:\n",
    "    m.pretty_print()"
   ]
  },
  {
   "cell_type": "code",
   "execution_count": 17,
   "metadata": {},
   "outputs": [
    {
     "data": {
      "image/png": "[encoded data removed]",
      "text/plain": [
       "<IPython.core.display.Image object>"
      ]
     },
     "metadata": {},
     "output_type": "display_data"
    }
   ],
   "source": [
    "builder.add_edge(START,'tool_calling_llm')\n",
    "builder.add_conditional_edges(\n",
    "    'tool_calling_llm',\n",
    "    tools_condition\n",
    ")\n",
    "\n",
    "builder.add_edge('tools','tool_calling_llm')\n",
    "\n",
    "graph = builder.compile()\n",
    "display(Image(graph.get_graph().draw_mermaid_png()))"
   ]
  },
  {
   "cell_type": "code",
   "execution_count": 18,
   "metadata": {},
   "outputs": [
    {
     "name": "stdout",
     "output_type": "stream",
     "text": [
      "================================\u001b[1m Human Message \u001b[0m=================================\n",
      "\n",
      "My name is Pradeep and help me with latest AI Info from June, 2025\n",
      "==================================\u001b[1m Ai Message \u001b[0m==================================\n",
      "Tool Calls:\n",
      "  tavily_search_results_json (call_cmkFnlFCRtnus2EUC6quyp9s)\n",
      " Call ID: call_cmkFnlFCRtnus2EUC6quyp9s\n",
      "  Args:\n",
      "    query: latest AI info June 2025\n",
      "=================================\u001b[1m Tool Message \u001b[0m=================================\n",
      "Name: tavily_search_results_json\n",
      "\n",
      "[{\"url\": \"https://empathyfirstmedia.com/ai-trends-june-2025/\", \"content\": \"As we look at the AI landscape in June 2025, the rapid evolution of large language models (LLMs), innovative tools, and emerging functionalities continues to reshape industries. [...] AI tools have evolved significantly by June 2025, with a focus on accessibility and specialization. Text-to-video technologies, such as OpenAI’s Sora, have matured, enabling businesses to create professional-grade video content from simple prompts, revolutionizing paid social and content marketing strategies. Moreover, conversation intelligence tools like Chorus.ai from ZoomInfo are now embedded with advanced LLMs, offering deeper insights into sales calls and customer interactions by analyzing [...] Several new AI companies have entered the market by June 2025, focusing on niche applications. Startups like GenerativeFlow are gaining attention for their GEO-specific tools, helping small businesses optimize content for generative engines. Meanwhile, benchmarks such as GEO-bench, comprising 10,000 diverse queries across multiple domains, have become standard for evaluating generative engine performance. This benchmark highlights the effectiveness of GEO methods, with top strategies like\"}, {\"url\": \"https://www.crescendo.ai/news/latest-ai-news-and-updates\", \"content\": \"### **Telco Partnership Brings AI Search to Millions**\\n\\n**Date:** June 2, 2025  \\n**Summary:** A new partnership between Australian telecom providers and an AI search startup is bringing generative AI-powered search tools to mainstream users. The initiative aims to expand access to intelligent search assistants beyond the tech-savvy elite.  \\n**Source:** [Canberra Times](https://www.canberratimes.com.au/story/8981968/telco-partnership-opens-ai-powered-search-to-the-masses/) [...] **Date:** June 2, 2025  \\n**Summary:** EdTech startup Historic Mentor has launched a new AI platform allowing users to have conversations with historically significant personalities. Built on advanced LLMs, the tool offers immersive learning experiences with figures like Lincoln, Gandhi, and Cleopatra.  \\n**Source:** [EdTech Innovation Hub](https://www.edtechinnovationhub.com/news/historic-mentor-offers-ai-powered-conversations-with-key-historical-figures) [...] ### **Nova Scotia Hospital Installs AI System for Weapon Detection**\\n\\n**Date:** June 2, 2025  \\n**Summary:** A hospital in Nova Scotia has deployed an AI-powered weapon detection system at its entrance to prevent violence. The system uses computer vision and real-time alerts to enhance security without invasive procedures.  \\n**Source:** [Global News](https://globalnews.ca/news/11203668/nova-scotia-hospital-ai-weapons-detection/)\"}]\n",
      "==================================\u001b[1m Ai Message \u001b[0m==================================\n",
      "\n",
      "Here are some of the latest AI updates from June 2025:\n",
      "\n",
      "1. **AI Trends in June 2025:**\n",
      "   - The AI landscape in June 2025 showcases the rapid evolution of large language models (LLMs), innovative tools, and emerging functionalities reshaping industries.\n",
      "   - AI tools have advanced significantly with a focus on accessibility and specialization. Text-to-video technologies like OpenAI’s Sora have matured, enabling businesses to create professional-grade video content from simple prompts, transforming marketing strategies.\n",
      "   - Conversation intelligence tools such as Chorus.ai from ZoomInfo now incorporate advanced LLMs, providing deeper insights into sales calls and customer interactions.\n",
      "   - New AI companies have entered the market, focusing on niche applications like GEO-specific tools to help small businesses optimize content for generative engines.\n",
      "\n",
      "   Source: [Empathy First Media](https://empathyfirstmedia.com/ai-trends-june-2025/)\n",
      "\n",
      "2. **Telco Partnership Brings AI Search to Millions:**\n",
      "   - A partnership between Australian telecom providers and an AI search startup is making generative AI-powered search tools accessible to mainstream users.\n",
      "   \n",
      "   Source: [Canberra Times](https://www.canberratimes.com.au/story/8981968/telco-partnership-opens-ai-powered-search-to-the-masses/)\n",
      "\n",
      "3. **Historic Mentor AI Platform for Conversations with Historical Figures:**\n",
      "   - EdTech startup Historic Mentor has launched an AI platform allowing users to interact with historically significant personalities like Lincoln, Gandhi, and Cleopatra for immersive learning experiences.\n",
      "   \n",
      "   Source: [EdTech Innovation Hub](https://www.edtechinnovationhub.com/news/historic-mentor-offers-ai-powered-conversations-with-key-historical-figures)\n",
      "\n",
      "4. **Nova Scotia Hospital Deploys AI System for Weapon Detection:**\n",
      "   - A hospital in Nova Scotia has implemented an AI-powered weapon detection system at its entrance using computer vision and real-time alerts to enhance security without invasive procedures.\n",
      "   \n",
      "   Source: [Global News](https://globalnews.ca/news/11203668/nova-scotia-hospital-ai-weapons-detection/)\n",
      "\n",
      "You can visit the provided sources for more detailed information on each update.\n"
     ]
    }
   ],
   "source": [
    "messages = graph.invoke({'messages':'My name is Pradeep and help me with latest AI Info from June, 2025'})\n",
    "for m in messages['messages']:\n",
    "    m.pretty_print()"
   ]
  },
  {
   "cell_type": "code",
   "execution_count": null,
   "metadata": {},
   "outputs": [],
   "source": []
  }
 ],
 "metadata": {
  "kernelspec": {
   "display_name": "Python 3",
   "language": "python",
   "name": "python3"
  },
  "language_info": {
   "codemirror_mode": {
    "name": "ipython",
    "version": 3
   },
   "file_extension": ".py",
   "mimetype": "text/x-python",
   "name": "python",
   "nbconvert_exporter": "python",
   "pygments_lexer": "ipython3",
   "version": "3.10.0"
  }
 },
 "nbformat": 4,
 "nbformat_minor": 2
}
